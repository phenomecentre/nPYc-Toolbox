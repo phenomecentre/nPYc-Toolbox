{
 "cells": [
  {
   "cell_type": "markdown",
   "metadata": {},
   "source": [
    "# PROJECT - METHOD - YYMMDD - NPC NMR Data Pipeline"
   ]
  },
  {
   "cell_type": "markdown",
   "metadata": {},
   "source": [
    "#### This document provides a pipeline for the import of NMR data (pre-processing), and any associated sample metadata, followed by summaries and quality control reports of the data, implementation of quality control analysis and output of a final dataset ready for sharing with collaborators and data modeling. See SOP # for further details of requirements, descriptions of expected outputs and options for optimising data quality."
   ]
  },
  {
   "cell_type": "markdown",
   "metadata": {},
   "source": [
    "#### By default all summary reports (with the exception of the final report) will be output only to this notebook. The notebook (including outputs) can be saved using >File>Save and Checkpoint. However, if html copies of any reports are required these can be automatically saved to the save directory by adding the optional input argument output=saveDir."
   ]
  },
  {
   "cell_type": "markdown",
   "metadata": {},
   "source": [
    "# 1. Initial Setup"
   ]
  },
  {
   "cell_type": "markdown",
   "metadata": {},
   "source": [
    "### Define file paths"
   ]
  },
  {
   "cell_type": "code",
   "execution_count": null,
   "metadata": {},
   "outputs": [],
   "source": [
    "toolboxPath = r'/local path to npyc-toolbox/phenomecentre/npyc-toolbox'\n",
    "chemometricsPath = r'/local path to pyChemometrics-toolbox'\n",
    "\n",
    "rawDataPath = r'/path to Bruker data either rack or full dataset dir level/'\n",
    "\n",
    "limsFilePath = r'/path to LIMS file/PROJECT dataset LIMSfile.csv'\n",
    "manifestPath = r'/path to subject information file/PROJECT SubjectINFOfile.csv'\n",
    "\n",
    "saveDir = r'/path to save directory/Projects/PROJECT/METHOD DATE/'\n",
    "pulseProgram='noesygppr1d'\n",
    "sop='GenericNMRblood'"
   ]
  },
  {
   "cell_type": "markdown",
   "metadata": {},
   "source": [
    "### Import code"
   ]
  },
  {
   "cell_type": "code",
   "execution_count": null,
   "metadata": {
    "scrolled": false
   },
   "outputs": [],
   "source": [
    "import os\n",
    "import matplotlib.pyplot as plt\n",
    "import scipy\n",
    "import pandas\n",
    "import numpy\n",
    "import pickle\n",
    "import seaborn as sns\n",
    "from plotly.offline import init_notebook_mode, iplot\n",
    "init_notebook_mode(connected=True)\n",
    "%matplotlib inline\n",
    "import sys\n",
    "sys.path.append(chemometricsPath)\n",
    "sys.path.append(toolboxPath)\n",
    "import nPYc\n",
    "import copy\n",
    "from nPYc.enumerations import VariableType, DatasetLevel, AssayRole, SampleType\n",
    "from nPYc.utilities.normalisation import NullNormaliser, TotalAreaNormaliser, ProbabilisticQuotientNormaliser"
   ]
  },
  {
   "cell_type": "code",
   "execution_count": null,
   "metadata": {},
   "outputs": [],
   "source": [
    "import datetime\n",
    "from nPYc.__init__ import __version__ as version\n",
    "print('Run with branch ' + version + ' on ' + datetime.datetime.now().strftime(\"%Y-%m-%d %H:%M\"))"
   ]
  },
  {
   "cell_type": "markdown",
   "metadata": {},
   "source": [
    "# 2. Import Data and Sample Metadata"
   ]
  },
  {
   "cell_type": "markdown",
   "metadata": {},
   "source": [
    "### Import acquired data and associated acqusition parameters"
   ]
  },
  {
   "cell_type": "code",
   "execution_count": null,
   "metadata": {},
   "outputs": [],
   "source": [
    "nmrData = nPYc.NMRDataset(rawDataPath, pulseProgram=pulseProgram, sop=sop, pdata=1)\n",
    "# default is noesygppr1d and urine use GenericNMRurine for urine"
   ]
  },
  {
   "cell_type": "markdown",
   "metadata": {},
   "source": [
    "### Match Acquired Samples to Sample IDs (LIMS file) and subject information (if available)"
   ]
  },
  {
   "cell_type": "code",
   "execution_count": null,
   "metadata": {
    "scrolled": false
   },
   "outputs": [],
   "source": [
    "nmrData.addSampleInfo(descriptionFormat='Basic CSV', filePath=limsFilePath)"
   ]
  },
  {
   "cell_type": "markdown",
   "metadata": {
    "collapsed": true
   },
   "source": [
    "# 3. Sample & Feature Summary Reports"
   ]
  },
  {
   "cell_type": "markdown",
   "metadata": {
    "collapsed": true
   },
   "source": [
    "### Generate sample summary report"
   ]
  },
  {
   "cell_type": "code",
   "execution_count": null,
   "metadata": {},
   "outputs": [],
   "source": [
    "nPYc.reports.generateReport(nmrData, 'sample summary')\n"
   ]
  },
  {
   "cell_type": "markdown",
   "metadata": {},
   "source": [
    "### Generate feature summary report"
   ]
  },
  {
   "cell_type": "code",
   "execution_count": null,
   "metadata": {
    "scrolled": false
   },
   "outputs": [],
   "source": [
    "nPYc.reports.generateReport(nmrData,'feature summary')"
   ]
  },
  {
   "cell_type": "markdown",
   "metadata": {},
   "source": [
    "# 4. Analytical Multivariate Quality Control"
   ]
  },
  {
   "cell_type": "markdown",
   "metadata": {},
   "source": [
    "### Select the samples and use the quality control checks to mask samples"
   ]
  },
  {
   "cell_type": "code",
   "execution_count": null,
   "metadata": {},
   "outputs": [],
   "source": [
    "nmrData.updateMasks(sampleTypes=[SampleType.StudySample, \n",
    "                                 SampleType.StudyPool, SampleType.ExternalReference], \n",
    "                    filterFeatures=False, qcSampleChecks=['LineWidthFail', 'CalibrationFail', \n",
    "                                                          'BaselineFail', 'WaterPeakFail'])"
   ]
  },
  {
   "cell_type": "markdown",
   "metadata": {},
   "source": [
    "### Run analytical multivariate QC"
   ]
  },
  {
   "cell_type": "markdown",
   "metadata": {},
   "source": [
    "#### There are several paramters in both the PCA model generation and multivariate report that can be optimised depending on your dataset, please see documentation for details. "
   ]
  },
  {
   "cell_type": "code",
   "execution_count": null,
   "metadata": {},
   "outputs": [],
   "source": [
    "# NOTE: default scaling=1 ('uv'); withExclusions=False (masks not applied)\n",
    "PCAmodelAnalytical = nPYc.multivariate.exploratoryAnalysisPCA(nmrData, withExclusions=True, scaling=0)"
   ]
  },
  {
   "cell_type": "code",
   "execution_count": null,
   "metadata": {
    "scrolled": false
   },
   "outputs": [],
   "source": [
    "nPYc.reports.multivariateQCreport(nmrData, PCAmodelAnalytical, reportType='analytical', withExclusions=True)"
   ]
  },
  {
   "cell_type": "markdown",
   "metadata": {},
   "source": [
    "### IF REQUIRED: generate interactive scores and loadings plots"
   ]
  },
  {
   "cell_type": "code",
   "execution_count": null,
   "metadata": {},
   "outputs": [],
   "source": [
    "# Interactive scores plot, e.g., plotting the scores for the first two components coloured by run order\n",
    "\n",
    "# data = nPYc.plotting.plotScoresInteractive(nmrData, PCAmodelAnalytical, 'Run Order', components=[1, 2], withExclusions=True)\n",
    "# iplot(data)"
   ]
  },
  {
   "cell_type": "code",
   "execution_count": null,
   "metadata": {},
   "outputs": [],
   "source": [
    "# Interactive loadings plot, e.g., plotting the loadings for component 2\n",
    "\n",
    "# data = nPYc.plotting.plotLoadingsInteractive(nmrData, PCAmodelAnalytical, component=2, withExclusions=True)\n",
    "# iplot(data)"
   ]
  },
  {
   "cell_type": "markdown",
   "metadata": {},
   "source": [
    "# 5. Save QC Reports for Review"
   ]
  },
  {
   "cell_type": "code",
   "execution_count": null,
   "metadata": {},
   "outputs": [],
   "source": [
    "qcDir = os.path.join(saveDir, 'QC')\n",
    "if not os.path.exists(qcDir):\n",
    "    os.makedirs(qcDir)\n",
    "nPYc.reports.generateReport(nmrData, 'sample summary', output=qcDir)\n",
    "nPYc.reports.generateReport(nmrData, 'feature summary', withExclusions=True, output=qcDir)\n",
    "nPYc.reports.multivariateQCreport(nmrData, PCAmodelAnalytical, reportType='analytical', withExclusions=True, output=qcDir)"
   ]
  },
  {
   "cell_type": "markdown",
   "metadata": {},
   "source": [
    "# 6. Finalise & Export Dataset"
   ]
  },
  {
   "cell_type": "markdown",
   "metadata": {},
   "source": [
    "### Select the samples (default is SampleType.StudySample and SampleType.StudyPool samples only)"
   ]
  },
  {
   "cell_type": "code",
   "execution_count": null,
   "metadata": {},
   "outputs": [],
   "source": [
    "nmrData.updateMasks(filterFeatures=True)"
   ]
  },
  {
   "cell_type": "markdown",
   "metadata": {},
   "source": [
    "### Generate PCA model with updated settings"
   ]
  },
  {
   "cell_type": "code",
   "execution_count": null,
   "metadata": {},
   "outputs": [],
   "source": [
    "PCAmodelAnalytical = nPYc.multivariate.exploratoryAnalysisPCA(nmrData, withExclusions=True, scaling=0)"
   ]
  },
  {
   "cell_type": "code",
   "execution_count": null,
   "metadata": {
    "scrolled": false
   },
   "outputs": [],
   "source": [
    "nPYc.reports.multivariateQCreport(nmrData, PCAmodelAnalytical, withExclusions=True, reportType='analytical')"
   ]
  },
  {
   "cell_type": "markdown",
   "metadata": {},
   "source": [
    "### IF REQUIRED: mark samples for exclusion based on multivariate QC results"
   ]
  },
  {
   "cell_type": "code",
   "execution_count": null,
   "metadata": {},
   "outputs": [],
   "source": [
    "# For example, mark outlying samples for exclusion (e.g., from interactive scores plot)\n",
    "# nmrData.excludeSamples(nmrData.sampleMetadata.iloc[nmrData.sampleMetadata['Sample File Name'].values=='Sample File Name']['Sample File Name'], on='Sample File Name', message='Outlier in PCA scores')"
   ]
  },
  {
   "cell_type": "code",
   "execution_count": null,
   "metadata": {},
   "outputs": [],
   "source": [
    "# Repeat PCA modelling\n",
    "# PCAmodelAnalytical = nPYc.multivariate.exploratoryAnalysisPCA(nmrData, withExclusions=True, scaling=0)\n",
    "# nPYc.reports.multivariateQCreport(nmrData, PCAmodelAnalytical, reportType='analytical', withExclusions=True)"
   ]
  },
  {
   "cell_type": "markdown",
   "metadata": {},
   "source": [
    "### Check final dataset output if current masks applied"
   ]
  },
  {
   "cell_type": "code",
   "execution_count": null,
   "metadata": {
    "scrolled": false
   },
   "outputs": [],
   "source": [
    "nPYc.reports.generateReport(nmrData, 'final report', withExclusions=True, pcaModel=PCAmodelAnalytical)"
   ]
  },
  {
   "cell_type": "markdown",
   "metadata": {},
   "source": [
    "### Export data"
   ]
  },
  {
   "cell_type": "code",
   "execution_count": null,
   "metadata": {
    "scrolled": true
   },
   "outputs": [],
   "source": [
    "# Export final dataset\n",
    "nmrData.exportDataset(destinationPath=saveDir)"
   ]
  },
  {
   "cell_type": "code",
   "execution_count": null,
   "metadata": {},
   "outputs": [],
   "source": [
    "# Export final summary report\n",
    "nPYc.reports.generateReport(nmrData, 'final report', output=saveDir, pcaModel=PCAmodelAnalytical)"
   ]
  },
  {
   "cell_type": "code",
   "execution_count": null,
   "metadata": {},
   "outputs": [],
   "source": [
    "# To export combined dataset (e.g., format for SIMCA)\n",
    "nmrData.exportDataset(destinationPath=saveDir, saveFormat='UnifiedCSV')"
   ]
  },
  {
   "cell_type": "markdown",
   "metadata": {},
   "source": [
    "### IF REQUIRED: change normalisation"
   ]
  },
  {
   "cell_type": "code",
   "execution_count": null,
   "metadata": {},
   "outputs": [],
   "source": [
    "# For total area normalisation\n",
    "# nmrData.Normalisation = TotalAreaNormaliser()\n",
    "\n",
    "# For probabilistic quotient normalisation\n",
    "nmrData.Normalisation = ProbabilisticQuotientNormaliser()"
   ]
  },
  {
   "cell_type": "markdown",
   "metadata": {},
   "source": [
    "### PCA of normalised dataset"
   ]
  },
  {
   "cell_type": "code",
   "execution_count": null,
   "metadata": {},
   "outputs": [],
   "source": [
    "PCAmodelAnalytical_normalised = nPYc.multivariate.exploratoryAnalysisPCA(nmrData, scaling=0)"
   ]
  },
  {
   "cell_type": "code",
   "execution_count": null,
   "metadata": {
    "scrolled": false
   },
   "outputs": [],
   "source": [
    "nPYc.reports.multivariateQCreport(nmrData, PCAmodelAnalytical_normalised, reportType='analytical')"
   ]
  },
  {
   "cell_type": "markdown",
   "metadata": {},
   "source": [
    "### Export normalised data"
   ]
  },
  {
   "cell_type": "code",
   "execution_count": null,
   "metadata": {},
   "outputs": [],
   "source": [
    "normalisedDir = os.path.join(saveDir, 'Normalised data')\n",
    "if not os.path.exists(normalisedDir):\n",
    "    os.makedirs(normalisedDir)"
   ]
  },
  {
   "cell_type": "code",
   "execution_count": null,
   "metadata": {},
   "outputs": [],
   "source": [
    "nmrData.exportDataset(destinationPath=normalisedDir)"
   ]
  },
  {
   "cell_type": "code",
   "execution_count": null,
   "metadata": {},
   "outputs": [],
   "source": [
    "nPYc.reports.generateReport(nmrData, 'final report', pcaModel=PCAmodelAnalytical_normalised, output=normalisedDir)"
   ]
  },
  {
   "cell_type": "code",
   "execution_count": null,
   "metadata": {},
   "outputs": [],
   "source": [
    "nmrData.exportDataset(destinationPath=normalisedDir, saveFormat='UnifiedCSV')"
   ]
  },
  {
   "cell_type": "markdown",
   "metadata": {},
   "source": [
    "# 7. Biological Multivariate Report"
   ]
  },
  {
   "cell_type": "code",
   "execution_count": null,
   "metadata": {},
   "outputs": [],
   "source": [
    "# Keep study samples only, but all features\n",
    "nmrData.updateMasks(sampleTypes=[SampleType.StudySample], filterFeatures=False)"
   ]
  },
  {
   "cell_type": "code",
   "execution_count": null,
   "metadata": {},
   "outputs": [],
   "source": [
    "PCAmodelBiological = nPYc.multivariate.exploratoryAnalysisPCA(nmrData, withExclusions=True, scaling=0)"
   ]
  },
  {
   "cell_type": "code",
   "execution_count": null,
   "metadata": {},
   "outputs": [],
   "source": [
    "nPYc.reports.multivariateQCreport(nmrData, PCAmodelBiological, withExclusions=True, reportType='biological')"
   ]
  },
  {
   "cell_type": "code",
   "execution_count": null,
   "metadata": {},
   "outputs": [],
   "source": [
    "# Save report (NOTE: check output directory correct for whether data normalised or not)\n",
    "nPYc.reports.multivariateQCreport(nmrData, PCAmodelBiological, withExclusions=True, reportType='biological', output=normalisedDir)"
   ]
  },
  {
   "cell_type": "markdown",
   "metadata": {},
   "source": [
    "### IF REQUIRED: define subset of biological parameters, with defined type, for plotting"
   ]
  },
  {
   "cell_type": "code",
   "execution_count": null,
   "metadata": {},
   "outputs": [],
   "source": [
    "# Define parameters to plot, keys as column names, values as data type\n",
    "# biologicalMeasurements = {'Test': 'categorical', 'Age': 'continuous'}\n",
    "\n",
    "# Repeat PCA\n",
    "# PCAmodelBiological = nPYc.multivariate.exploratoryAnalysisPCA(nmrData, scaling=0)\n",
    "# nPYc.reports.multivariateQCreport(nmrData, PCAmodelBiological, reportType='biological', biologicalMeasurements=biologicalMeasurements)"
   ]
  }
 ],
 "metadata": {
  "anaconda-cloud": {},
  "kernelspec": {
   "display_name": "Python 3",
   "language": "python",
   "name": "python3"
  },
  "language_info": {
   "codemirror_mode": {
    "name": "ipython",
    "version": 3
   },
   "file_extension": ".py",
   "mimetype": "text/x-python",
   "name": "python",
   "nbconvert_exporter": "python",
   "pygments_lexer": "ipython3",
   "version": "3.6.4"
  }
 },
 "nbformat": 4,
 "nbformat_minor": 1
}
