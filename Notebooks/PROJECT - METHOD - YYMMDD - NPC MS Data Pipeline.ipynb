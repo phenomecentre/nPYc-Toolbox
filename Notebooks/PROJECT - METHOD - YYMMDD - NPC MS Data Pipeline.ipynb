{
 "cells": [
  {
   "cell_type": "markdown",
   "metadata": {},
   "source": [
    "# PROJECT - METHOD - YYMMDD - NPC MS Data Pipeline"
   ]
  },
  {
   "cell_type": "markdown",
   "metadata": {},
   "source": [
    "#### This document provides a pipeline for the import of MS data (post peak-picking), and any associated sample metadata, followed by summaries and quality control reports of the data (both in sample and feature dimensions), implementation of batch correction and feature selection and output of a final dataset ready for sharing with collaborators and data modeling. See SOP # for further details of requirements, descriptions of expected outputs and options for optimising data quality."
   ]
  },
  {
   "cell_type": "markdown",
   "metadata": {},
   "source": [
    "# 1. Initial Setup"
   ]
  },
  {
   "cell_type": "markdown",
   "metadata": {},
   "source": [
    "### Define file paths"
   ]
  },
  {
   "cell_type": "code",
   "execution_count": null,
   "metadata": {
    "collapsed": true
   },
   "outputs": [],
   "source": [
    "toolboxPath = '/local path to npyc-toolbox/phenomecentre/npyc-toolbox'\n",
    "chemometricsPath = '/local path to pyChemometrics-toolbox'\n",
    "\n",
    "QIdataPath = '/path to progenesis file/PROJECT dataset PIfile.csv'\n",
    "rawDataPath = '/path to raw data/Data/'\n",
    "\n",
    "limsFilePath = '/path to LIMS file/PROJECT dataset LIMSfile.csv'\n",
    "manifestPath = '/path to subject information file/PROJECT SubjectINFOfile.csv'\n",
    "\n",
    "saveDir = '/path to save directory/Projects/PROJECT/METHOD DATE/'"
   ]
  },
  {
   "cell_type": "markdown",
   "metadata": {},
   "source": [
    "### Import code"
   ]
  },
  {
   "cell_type": "code",
   "execution_count": null,
   "metadata": {
    "collapsed": true
   },
   "outputs": [],
   "source": [
    "import os\n",
    "import matplotlib.pyplot as plt\n",
    "import scipy\n",
    "import pandas\n",
    "import numpy\n",
    "import pickle\n",
    "import seaborn as sns\n",
    "from plotly.offline import init_notebook_mode, iplot\n",
    "init_notebook_mode(connected=True)\n",
    "%matplotlib inline\n",
    "import sys\n",
    "sys.path.append(chemometricsPath)\n",
    "sys.path.append(toolboxPath)\n",
    "import nPYc\n",
    "import copy\n",
    "from nPYc.enumerations import VariableType, DatasetLevel, AssayRole, SampleType\n",
    "from nPYc.utilities.normalisation import NullNormaliser, TotalAreaNormaliser, ProbabilisticQuotientNormaliser"
   ]
  },
  {
   "cell_type": "code",
   "execution_count": null,
   "metadata": {
    "collapsed": true
   },
   "outputs": [],
   "source": [
    "import datetime\n",
    "from nPYc.__init__ import __version__ as version\n",
    "print('Run with branch ' + version + ' on ' + datetime.datetime.now().strftime(\"%Y-%m-%d %H:%M\"))"
   ]
  },
  {
   "cell_type": "markdown",
   "metadata": {},
   "source": [
    "### Create saveDir"
   ]
  },
  {
   "cell_type": "code",
   "execution_count": null,
   "metadata": {
    "collapsed": true
   },
   "outputs": [],
   "source": [
    "if not os.path.exists(saveDir):\n",
    "    os.makedirs(saveDir)\n",
    "    os.makedirs(os.path.join(saveDir, 'data objects'))"
   ]
  },
  {
   "cell_type": "markdown",
   "metadata": {},
   "source": [
    "# 2. Import Data & Sample Metadata"
   ]
  },
  {
   "cell_type": "markdown",
   "metadata": {},
   "source": [
    "### Import acquired data and associated acqusition parameters"
   ]
  },
  {
   "cell_type": "code",
   "execution_count": null,
   "metadata": {
    "collapsed": true
   },
   "outputs": [],
   "source": [
    "msData = nPYc.MSDataset(QIdataPath)\n",
    "msData.addSampleInfo(descriptionFormat='Filenames')\n",
    "msData.addSampleInfo(descriptionFormat='Raw Data', filePath=rawDataPath)\n",
    "msData.addSampleInfo(descriptionFormat='Batches')"
   ]
  },
  {
   "cell_type": "markdown",
   "metadata": {},
   "source": [
    "### Match acquired samples to sample IDs (LIMS file) and subject information (if available)"
   ]
  },
  {
   "cell_type": "code",
   "execution_count": null,
   "metadata": {
    "collapsed": true
   },
   "outputs": [],
   "source": [
    "msData.addSampleInfo(descriptionFormat='NPC LIMS', filePath=limsFilePath)"
   ]
  },
  {
   "cell_type": "code",
   "execution_count": null,
   "metadata": {
    "collapsed": true
   },
   "outputs": [],
   "source": [
    "msData.addSampleInfo(descriptionFormat='NPC Subject Info', filePath=manifestPath)"
   ]
  },
  {
   "cell_type": "markdown",
   "metadata": {},
   "source": [
    "### IF REQUIRED: save/load imported data"
   ]
  },
  {
   "cell_type": "code",
   "execution_count": null,
   "metadata": {
    "collapsed": true
   },
   "outputs": [],
   "source": [
    "# pickle.dump(msData, open(os.path.join(saveDir, 'data objects', msData.name + \"_msDataImported.p\"), \"wb\"))"
   ]
  },
  {
   "cell_type": "code",
   "execution_count": null,
   "metadata": {
    "collapsed": true
   },
   "outputs": [],
   "source": [
    "# msData = pickle.load( open('path to data objects/msDataImported.p', \"rb\"))"
   ]
  },
  {
   "cell_type": "markdown",
   "metadata": {},
   "source": [
    "# 3. Sample & Feature Summary Reports"
   ]
  },
  {
   "cell_type": "markdown",
   "metadata": {
    "collapsed": true
   },
   "source": [
    "### Generate sample summary report"
   ]
  },
  {
   "cell_type": "code",
   "execution_count": null,
   "metadata": {
    "collapsed": true,
    "scrolled": false
   },
   "outputs": [],
   "source": [
    "nPYc.reports.generateReport(msData, 'sample summary')"
   ]
  },
  {
   "cell_type": "markdown",
   "metadata": {},
   "source": [
    "### IF REQUIRED: remove samples marked for exclusion or of unknown type"
   ]
  },
  {
   "cell_type": "code",
   "execution_count": null,
   "metadata": {
    "collapsed": true
   },
   "outputs": [],
   "source": [
    "# To exclude any samples 'Marked for Exclusion' (e.g., samples with insufficient sample volume, injection failure):\n",
    "# msData.excludeSamples(msData.sampleMetadata.iloc[msData.sampleMetadata['Skipped'].values==True]['Sample File Name'], on='Sample File Name', message='Marked for exclusion (_x)')\n",
    "\n",
    "# To exclude any samples of 'Unknown' type:\n",
    "# msData.excludeSamples(msData.sampleMetadata[pandas.isnull(msData.sampleMetadata['Sample Base Name'])]['Sample File Name'], on='Sample File Name', message='Unknown type')\n",
    "\n",
    "# Then apply masks:\n",
    "# msData.applyMasks()"
   ]
  },
  {
   "cell_type": "markdown",
   "metadata": {},
   "source": [
    "### Generate feature summary report"
   ]
  },
  {
   "cell_type": "code",
   "execution_count": null,
   "metadata": {
    "collapsed": true,
    "scrolled": false
   },
   "outputs": [],
   "source": [
    "nPYc.reports.generateReport(msData, 'feature summary')"
   ]
  },
  {
   "cell_type": "markdown",
   "metadata": {},
   "source": [
    "### IF REQUIRED: generate detailed correlation to dilution report"
   ]
  },
  {
   "cell_type": "markdown",
   "metadata": {},
   "source": [
    "#### If correlation to dilution figures show sub-optimal results, the following report provides more detail in order that outlying samples/SRD batch subsets can be excluded from the correlation to dilution calculation."
   ]
  },
  {
   "cell_type": "code",
   "execution_count": null,
   "metadata": {
    "collapsed": true,
    "scrolled": true
   },
   "outputs": [],
   "source": [
    "# nPYc.reports.generateReport(msData, 'correlation to dilution')"
   ]
  },
  {
   "cell_type": "code",
   "execution_count": null,
   "metadata": {
    "collapsed": true
   },
   "outputs": [],
   "source": [
    "# To generate an interactive plot for determining sample names of outlying samples:\n",
    "# data = nPYc.plotting.plotTICinteractive(msData, plottype='Linearity Reference')\n",
    "# iplot(data)"
   ]
  },
  {
   "cell_type": "code",
   "execution_count": null,
   "metadata": {
    "collapsed": true
   },
   "outputs": [],
   "source": [
    "# To exclude a complete subset of SRD samples, for example, B1LR1to46:\n",
    "# msData.corrExclusions = ['B1LR1to46']\n",
    "\n",
    "# To exclude specific samples, for example B2SRD83 and B2SRD84:\n",
    "# msData.excludeSamples(msData.sampleMetadata.iloc[msData.sampleMetadata['Sample File Name'].values=='PROJECT_METHOD_ToF_B2SRD83']['Sample File Name'], on='Sample File Name', message='Outlying TIC SRD')\n",
    "# msData.excludeSamples(msData.sampleMetadata.iloc[msData.sampleMetadata['Sample File Name'].values=='PROJECT_METHOD_ToF_B2SRD84']['Sample File Name'], on='Sample File Name', message='Outlying TIC SRD')\n",
    "\n",
    "# Then apply masks:\n",
    "# msData.applyMasks()"
   ]
  },
  {
   "cell_type": "markdown",
   "metadata": {},
   "source": [
    "# 4. Batch & Run-Order Correction"
   ]
  },
  {
   "cell_type": "markdown",
   "metadata": {},
   "source": [
    "#### The batch correction assessment report shows the TIC overall and the intensity and batch correction fit for a subset of randomly selected features, to check performance of batch correction and aid specification of additional batch start and end points or sample exclusions if required."
   ]
  },
  {
   "cell_type": "code",
   "execution_count": null,
   "metadata": {
    "collapsed": true,
    "scrolled": false
   },
   "outputs": [],
   "source": [
    "nPYc.reports.generateReport(msData, 'batch correction assessment', batch_correction_window=11)"
   ]
  },
  {
   "cell_type": "markdown",
   "metadata": {},
   "source": [
    "### IF REQUIRED: amend batches/exclude sample outliers"
   ]
  },
  {
   "cell_type": "markdown",
   "metadata": {},
   "source": [
    "#### If there is a significant gap in sample aquisition, or a significant jump in intensity between adjacent samples quality of fit can be detrementally effected. In these cases, a new batch should be initialised at the first sample after the gap, or where intensity shifts. In addition, any study pool samples exhibiting an outlying TIC can also be excluded at this stage."
   ]
  },
  {
   "cell_type": "code",
   "execution_count": null,
   "metadata": {
    "collapsed": true
   },
   "outputs": [],
   "source": [
    "# To generate an interactive plot for determining run order number of sample/s where a new batch should be started (number on second row):\n",
    "# data = nPYc.plotting.plotTICinteractive(msData, plottype='Sample Type')\n",
    "# iplot(data)"
   ]
  },
  {
   "cell_type": "code",
   "execution_count": null,
   "metadata": {
    "collapsed": true
   },
   "outputs": [],
   "source": [
    "# To define the start of new batch, for example at run order = 316:\n",
    "# msData.amendBatches(316)"
   ]
  },
  {
   "cell_type": "code",
   "execution_count": null,
   "metadata": {
    "collapsed": true
   },
   "outputs": [],
   "source": [
    "# To exclude specific samples, for example sample with run order 1182:\n",
    "# msData.excludeSamples(msData.sampleMetadata.iloc[msData.sampleMetadata['Run Order'].values==1181]['Sample File Name'], on='Sample File Name', message='Outlying TIC')\n",
    "\n",
    "# Then apply masks:\n",
    "# msData.applyMasks()"
   ]
  },
  {
   "cell_type": "markdown",
   "metadata": {
    "collapsed": true
   },
   "source": [
    "### Run batch correction"
   ]
  },
  {
   "cell_type": "code",
   "execution_count": null,
   "metadata": {
    "collapsed": true
   },
   "outputs": [],
   "source": [
    "msDatacorrected = nPYc.batchAndROCorrection.correctMSdataset(msData, parallelise=True)"
   ]
  },
  {
   "cell_type": "markdown",
   "metadata": {
    "collapsed": true
   },
   "source": [
    "### Generate batch correction summary report"
   ]
  },
  {
   "cell_type": "code",
   "execution_count": null,
   "metadata": {
    "collapsed": true,
    "scrolled": false
   },
   "outputs": [],
   "source": [
    "nPYc.reports.generateReport(msData, 'batch correction summary', msDataCorrected=msDatacorrected)"
   ]
  },
  {
   "cell_type": "markdown",
   "metadata": {},
   "source": [
    "### IF NO BATCH CORRECTION REQUIRED: use original dataset"
   ]
  },
  {
   "cell_type": "code",
   "execution_count": null,
   "metadata": {
    "collapsed": true
   },
   "outputs": [],
   "source": [
    "# msDatacorrected = msData"
   ]
  },
  {
   "cell_type": "markdown",
   "metadata": {},
   "source": [
    "# 5. Feature Filtering"
   ]
  },
  {
   "cell_type": "markdown",
   "metadata": {},
   "source": [
    "#### By default features are filtered based on correlation to dilution, Residual Standard Deviation (RSD) and removal of artifactual features (highly correlated features with close RT and m/z). The feature selection report shows the number of features passing filtering with the default settings, and how this number would be altered if thresholds where changed. "
   ]
  },
  {
   "cell_type": "code",
   "execution_count": null,
   "metadata": {
    "collapsed": true
   },
   "outputs": [],
   "source": [
    "nPYc.reports.generateReport(msDatacorrected, 'feature selection')"
   ]
  },
  {
   "cell_type": "markdown",
   "metadata": {},
   "source": [
    "### IF REQUIRED: adjust feature filtering parameter thresholds"
   ]
  },
  {
   "cell_type": "code",
   "execution_count": null,
   "metadata": {
    "collapsed": true
   },
   "outputs": [],
   "source": [
    "# For example, to amend the RSD threshold: \n",
    "# msDatacorrected.Attributes['rsdThreshold'] = 20\n",
    "\n",
    "# For example, to amend the correlation to dilution threshold:\n",
    "# msDatacorrected.Attributes['corrThreshold'] = .8"
   ]
  },
  {
   "cell_type": "markdown",
   "metadata": {},
   "source": [
    "### Apply feature selection"
   ]
  },
  {
   "cell_type": "code",
   "execution_count": null,
   "metadata": {
    "collapsed": true
   },
   "outputs": [],
   "source": [
    "msDatacorrected.updateMasks(filterFeatures=True, filterSamples=False)"
   ]
  },
  {
   "cell_type": "markdown",
   "metadata": {},
   "source": [
    "### Save QC Reports for Review"
   ]
  },
  {
   "cell_type": "code",
   "execution_count": null,
   "metadata": {
    "collapsed": true
   },
   "outputs": [],
   "source": [
    "qcDir = os.path.join(saveDir, 'QC')\n",
    "if not os.path.exists(qcDir):\n",
    "    os.makedirs(qcDir)\n",
    "nPYc.reports.generateReport(msDatacorrected, 'sample summary', output=qcDir)\n",
    "nPYc.reports.generateReport(msDatacorrected, 'feature summary', withExclusions=True, output=qcDir)"
   ]
  },
  {
   "cell_type": "markdown",
   "metadata": {},
   "source": [
    "# 6. Analytical Multivariate Quality Control"
   ]
  },
  {
   "cell_type": "markdown",
   "metadata": {},
   "source": [
    "### Select the samples"
   ]
  },
  {
   "cell_type": "code",
   "execution_count": null,
   "metadata": {
    "collapsed": true
   },
   "outputs": [],
   "source": [
    "msDatacorrected.updateMasks(sampleTypes=[SampleType.StudySample, SampleType.StudyPool, SampleType.ExternalReference])"
   ]
  },
  {
   "cell_type": "markdown",
   "metadata": {},
   "source": [
    "### Run analytical multivariate QC"
   ]
  },
  {
   "cell_type": "markdown",
   "metadata": {},
   "source": [
    "#### There are several paramters in both the PCA model generation and multivariate report that can be optimised depending on your dataset, please see documentation for details. "
   ]
  },
  {
   "cell_type": "code",
   "execution_count": null,
   "metadata": {
    "collapsed": true,
    "scrolled": true
   },
   "outputs": [],
   "source": [
    "# NOTE: default scaling=1 ('uv'); withExclusions=False (masks not applied)\n",
    "PCAmodelAnalytical = nPYc.multivariate.exploratoryAnalysisPCA(msDatacorrected, withExclusions=True)"
   ]
  },
  {
   "cell_type": "code",
   "execution_count": null,
   "metadata": {
    "collapsed": true
   },
   "outputs": [],
   "source": [
    "nPYc.reports.multivariateQCreport(msDatacorrected, PCAmodelAnalytical, reportType='analytical', withExclusions=True)"
   ]
  },
  {
   "cell_type": "markdown",
   "metadata": {},
   "source": [
    "### IF REQUIRED: generate interactive scores and loadings plots"
   ]
  },
  {
   "cell_type": "code",
   "execution_count": null,
   "metadata": {
    "collapsed": true
   },
   "outputs": [],
   "source": [
    "# Interactive scores plot, e.g., plotting the scores for the first two components coloured by run order\n",
    "\n",
    "# data = nPYc.plotting.plotScoresInteractive(msDatacorrected, PCAmodelAnalytical, 'Run Order', components=[1, 2], withExclusions=True)\n",
    "# iplot(data)"
   ]
  },
  {
   "cell_type": "code",
   "execution_count": null,
   "metadata": {
    "collapsed": true
   },
   "outputs": [],
   "source": [
    "# Interactive loadings plot, e.g., plotting the loadings for component 2\n",
    "\n",
    "# data = nPYc.plotting.plotLoadingsInteractive(msDatacorrected, PCAmodelAnalytical, component=2, withExclusions=True)\n",
    "# iplot(data)"
   ]
  },
  {
   "cell_type": "markdown",
   "metadata": {},
   "source": [
    "### Save QC Reports for Review"
   ]
  },
  {
   "cell_type": "code",
   "execution_count": null,
   "metadata": {
    "collapsed": true
   },
   "outputs": [],
   "source": [
    "nPYc.reports.multivariateQCreport(msDatacorrected, PCAmodelAnalytical, reportType='analytical', withExclusions=True, output=qcDir)"
   ]
  },
  {
   "cell_type": "markdown",
   "metadata": {},
   "source": [
    "# 8. Finalise & Export Dataset"
   ]
  },
  {
   "cell_type": "markdown",
   "metadata": {},
   "source": [
    "### Select the samples (default is SampleType.StudySample and SampleType.StudyPool samples only)"
   ]
  },
  {
   "cell_type": "code",
   "execution_count": null,
   "metadata": {
    "collapsed": true
   },
   "outputs": [],
   "source": [
    "msDatacorrected.updateMasks()"
   ]
  },
  {
   "cell_type": "markdown",
   "metadata": {},
   "source": [
    "### Generate PCA model with updated settings"
   ]
  },
  {
   "cell_type": "code",
   "execution_count": null,
   "metadata": {
    "collapsed": true
   },
   "outputs": [],
   "source": [
    "PCAmodelAnalytical = nPYc.multivariate.exploratoryAnalysisPCA(msDatacorrected, withExclusions=True)"
   ]
  },
  {
   "cell_type": "code",
   "execution_count": null,
   "metadata": {
    "collapsed": true
   },
   "outputs": [],
   "source": [
    "nPYc.reports.multivariateQCreport(msDatacorrected, PCAmodelAnalytical, withExclusions=True, reportType='analytical')"
   ]
  },
  {
   "cell_type": "markdown",
   "metadata": {},
   "source": [
    "### IF REQUIRED: mark samples for exclusion based on multivariate QC results"
   ]
  },
  {
   "cell_type": "code",
   "execution_count": null,
   "metadata": {
    "collapsed": true
   },
   "outputs": [],
   "source": [
    "# For example, mark outlying samples for exclusion (e.g., from interactive scores plot)\n",
    "# msData.excludeSamples(msData.sampleMetadata.iloc[msData.sampleMetadata['Sample File Name'].values=='PROJECT_METHOD_ToF_PxWx']['Sample File Name'], on='Sample File Name', message='Outlier in PCA scores')"
   ]
  },
  {
   "cell_type": "code",
   "execution_count": null,
   "metadata": {
    "collapsed": true
   },
   "outputs": [],
   "source": [
    "# Repeat PCA modelling\n",
    "# PCAmodelAnalytical = nPYc.multivariate.exploratoryAnalysisPCA(msDatacorrected, withExclusions=True)\n",
    "# nPYc.reports.multivariateQCreport(msDatacorrected, PCAmodelAnalytical, reportType='analytical', withExclusions=True)"
   ]
  },
  {
   "cell_type": "markdown",
   "metadata": {},
   "source": [
    "### Check final dataset output if current masks applied"
   ]
  },
  {
   "cell_type": "code",
   "execution_count": null,
   "metadata": {
    "collapsed": true
   },
   "outputs": [],
   "source": [
    "nPYc.reports.generateReport(msDatacorrected, 'final report', withExclusions=True, pcaModel=PCAmodelAnalytical)"
   ]
  },
  {
   "cell_type": "markdown",
   "metadata": {},
   "source": [
    "### Apply masks"
   ]
  },
  {
   "cell_type": "code",
   "execution_count": null,
   "metadata": {
    "collapsed": true
   },
   "outputs": [],
   "source": [
    "msDatacorrected.applyMasks()"
   ]
  },
  {
   "cell_type": "markdown",
   "metadata": {},
   "source": [
    "### Export data"
   ]
  },
  {
   "cell_type": "code",
   "execution_count": null,
   "metadata": {
    "collapsed": true
   },
   "outputs": [],
   "source": [
    "# Export final dataset\n",
    "msDatacorrected.exportDataset(destinationPath=saveDir)"
   ]
  },
  {
   "cell_type": "code",
   "execution_count": null,
   "metadata": {
    "collapsed": true
   },
   "outputs": [],
   "source": [
    "# Export final summary report\n",
    "nPYc.reports.generateReport(msDatacorrected, 'final report', output=saveDir, pcaModel=PCAmodelAnalytical)"
   ]
  },
  {
   "cell_type": "code",
   "execution_count": null,
   "metadata": {
    "collapsed": true
   },
   "outputs": [],
   "source": [
    "# To export combined dataset (e.g., format for SIMCA)\n",
    "msDatacorrected.exportDataset(destinationPath=saveDir, saveFormat='UnifiedCSV')"
   ]
  },
  {
   "cell_type": "markdown",
   "metadata": {},
   "source": [
    "### IF REQUIRED: change normalisation"
   ]
  },
  {
   "cell_type": "code",
   "execution_count": null,
   "metadata": {
    "collapsed": true
   },
   "outputs": [],
   "source": [
    "# For total area normalisation\n",
    "# msDatacorrected.Normalisation = TotalAreaNormaliser()\n",
    "\n",
    "# For probabilistic quotient normalisation\n",
    "msDatacorrected.Normalisation = ProbabilisticQuotientNormaliser()"
   ]
  },
  {
   "cell_type": "markdown",
   "metadata": {},
   "source": [
    "### PCA of normalised dataset"
   ]
  },
  {
   "cell_type": "code",
   "execution_count": null,
   "metadata": {
    "collapsed": true
   },
   "outputs": [],
   "source": [
    "PCAmodelAnalytical_normalised = nPYc.multivariate.exploratoryAnalysisPCA(msDatacorrected)"
   ]
  },
  {
   "cell_type": "code",
   "execution_count": null,
   "metadata": {
    "collapsed": true
   },
   "outputs": [],
   "source": [
    "nPYc.reports.multivariateQCreport(msDatacorrected, PCAmodelAnalytical_normalised, reportType='analytical')"
   ]
  },
  {
   "cell_type": "markdown",
   "metadata": {},
   "source": [
    "### Export normalised data"
   ]
  },
  {
   "cell_type": "code",
   "execution_count": null,
   "metadata": {
    "collapsed": true
   },
   "outputs": [],
   "source": [
    "normalisedDir = os.path.join(saveDir, 'Normalised data')\n",
    "if not os.path.exists(normalisedDir):\n",
    "    os.makedirs(normalisedDir)"
   ]
  },
  {
   "cell_type": "code",
   "execution_count": null,
   "metadata": {
    "collapsed": true
   },
   "outputs": [],
   "source": [
    "msDatacorrected.exportDataset(destinationPath=normalisedDir)"
   ]
  },
  {
   "cell_type": "code",
   "execution_count": null,
   "metadata": {
    "collapsed": true
   },
   "outputs": [],
   "source": [
    "nPYc.reports.generateReport(msDatacorrected, 'final report', pcaModel=PCAmodelAnalytical_normalised, output=normalisedDir)"
   ]
  },
  {
   "cell_type": "code",
   "execution_count": null,
   "metadata": {
    "collapsed": true
   },
   "outputs": [],
   "source": [
    "msDatacorrected.exportDataset(destinationPath=normalisedDir, saveFormat='UnifiedCSV')"
   ]
  },
  {
   "cell_type": "markdown",
   "metadata": {},
   "source": [
    "# 9. Biological Multivariate Report"
   ]
  },
  {
   "cell_type": "code",
   "execution_count": null,
   "metadata": {
    "collapsed": true
   },
   "outputs": [],
   "source": [
    "# Keep study samples only, but all features\n",
    "msDatacorrected.updateMasks(sampleTypes=[SampleType.StudySample], filterFeatures=False)"
   ]
  },
  {
   "cell_type": "code",
   "execution_count": null,
   "metadata": {
    "collapsed": true
   },
   "outputs": [],
   "source": [
    "PCAmodelBiological = nPYc.multivariate.exploratoryAnalysisPCA(msDatacorrected, withExclusions=True)"
   ]
  },
  {
   "cell_type": "code",
   "execution_count": null,
   "metadata": {
    "collapsed": true
   },
   "outputs": [],
   "source": [
    "nPYc.reports.multivariateQCreport(msDatacorrected, PCAmodelBiological, reportType='biological', withExclusions=True)"
   ]
  },
  {
   "cell_type": "code",
   "execution_count": null,
   "metadata": {
    "collapsed": true
   },
   "outputs": [],
   "source": [
    "# Save report (NOTE: check output directory correct for whether data normalised or not)\n",
    "nPYc.reports.multivariateQCreport(msDatacorrected, PCAmodelBiological, reportType='biological', withExclusions=True, output=normalisedDir)"
   ]
  },
  {
   "cell_type": "markdown",
   "metadata": {},
   "source": [
    "### IF REQUIRED: define subset of biological parameters, with defined type, for plotting"
   ]
  },
  {
   "cell_type": "code",
   "execution_count": null,
   "metadata": {
    "collapsed": true
   },
   "outputs": [],
   "source": [
    "# Define parameters to plot, keys as column names, values as data type\n",
    "# biologicalMeasurements = {'Test': 'categorical', 'Age': 'continuous'}\n",
    "\n",
    "# Repeat PCA\n",
    "# PCAmodelBiological = nPYc.multivariate.exploratoryAnalysisPCA(msDatacorrected)\n",
    "# nPYc.reports.multivariateQCreport(msDatacorrected, PCAmodelBiological, reportType='biological', withExclusions=True, biologicalMeasurements=biologicalMeasurements)"
   ]
  }
 ],
 "metadata": {
  "anaconda-cloud": {},
  "celltoolbar": "Raw Cell Format",
  "kernelspec": {
   "display_name": "Python 3",
   "language": "python",
   "name": "python3"
  },
  "language_info": {
   "codemirror_mode": {
    "name": "ipython",
    "version": 3
   },
   "file_extension": ".py",
   "mimetype": "text/x-python",
   "name": "python",
   "nbconvert_exporter": "python",
   "pygments_lexer": "ipython3",
   "version": "3.6.4"
  }
 },
 "nbformat": 4,
 "nbformat_minor": 1
}
